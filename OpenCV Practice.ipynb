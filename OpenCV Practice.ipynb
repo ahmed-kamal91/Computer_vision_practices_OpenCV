{
 "cells": [
  {
   "cell_type": "code",
   "execution_count": 1,
   "id": "ae40c8ba",
   "metadata": {},
   "outputs": [],
   "source": [
    "import cv2\n",
    "import numpy as np"
   ]
  },
  {
   "cell_type": "markdown",
   "id": "cc2ac052",
   "metadata": {},
   "source": [
    "<img src= \"images/me.jpg\" alt =\"Animal\" style='width: 200px;' align = 'left' />\n",
    "<h1>__Hi!</h1>"
   ]
  },
  {
   "cell_type": "markdown",
   "id": "55bc9b46",
   "metadata": {},
   "source": [
    "## ------------------------Read & Convert--(RGB)--(Gray)--(HSV)-------------------------"
   ]
  },
  {
   "cell_type": "code",
   "execution_count": 2,
   "id": "7785cc7d",
   "metadata": {},
   "outputs": [
    {
     "data": {
      "text/plain": [
       "(476, 535, 3)"
      ]
     },
     "execution_count": 2,
     "metadata": {},
     "output_type": "execute_result"
    }
   ],
   "source": [
    "img = cv2.imread(\"images/Andrew.jpg\")\n",
    "img.shape"
   ]
  },
  {
   "cell_type": "code",
   "execution_count": 4,
   "id": "b9e2baba",
   "metadata": {},
   "outputs": [
    {
     "data": {
      "text/plain": [
       "(476, 535)"
      ]
     },
     "execution_count": 4,
     "metadata": {},
     "output_type": "execute_result"
    }
   ],
   "source": [
    "gray = cv2.cvtColor(img, cv2.COLOR_BGR2GRAY)\n",
    "gray.shape"
   ]
  },
  {
   "cell_type": "code",
   "execution_count": 5,
   "id": "6824597d",
   "metadata": {},
   "outputs": [
    {
     "data": {
      "text/plain": [
       "(476, 535, 3)"
      ]
     },
     "execution_count": 5,
     "metadata": {},
     "output_type": "execute_result"
    }
   ],
   "source": [
    "hsv = cv2.cvtColor(img, cv2.COLOR_BGR2HSV)\n",
    "hsv.shape"
   ]
  },
  {
   "cell_type": "code",
   "execution_count": 6,
   "id": "fd2910d5",
   "metadata": {},
   "outputs": [
    {
     "data": {
      "text/plain": [
       "(476, 535, 3)"
      ]
     },
     "execution_count": 6,
     "metadata": {},
     "output_type": "execute_result"
    }
   ],
   "source": [
    "rgb = cv2.cvtColor(img, cv2.COLOR_BGR2RGB)\n",
    "rgb.shape"
   ]
  },
  {
   "cell_type": "code",
   "execution_count": 8,
   "id": "ff07833d",
   "metadata": {},
   "outputs": [
    {
     "data": {
      "text/plain": [
       "True"
      ]
     },
     "execution_count": 8,
     "metadata": {},
     "output_type": "execute_result"
    }
   ],
   "source": [
    "cv2.imwrite(\"images/blur.jpg\", blur)"
   ]
  },
  {
   "cell_type": "code",
   "execution_count": 7,
   "id": "e7890141",
   "metadata": {},
   "outputs": [
    {
     "data": {
      "text/plain": [
       "-1"
      ]
     },
     "execution_count": 7,
     "metadata": {},
     "output_type": "execute_result"
    }
   ],
   "source": [
    "cv2.imshow(\"Beautiful Man(BGR)\", img)\n",
    "cv2.imshow(\"make it right(RGB)\", rgb)\n",
    "cv2.imshow(\"old(Gray)\", gray)\n",
    "cv2.imshow(\"creepy(HSV)\", hsv)\n",
    "cv2.waitKey(0)"
   ]
  },
  {
   "cell_type": "markdown",
   "id": "003f1e3b",
   "metadata": {},
   "source": [
    "<p>-----------------Original----------------------------------RGB-----------------------------Grayscale------------------------------------HSV-----------</p>\n",
    "\n",
    "<img src= \"images/Andrew.jpg\" alt =\"Andrew\" style='width: 200px;' align = 'left' />\n",
    "<img src= \"images/rgb.jpg\" alt =\"Andrew\" style='width: 200px;' align = 'left' />\n",
    "<img src= \"images/gray.jpg\" alt =\"Andrew\" style='width: 200px;' align = 'left' />\n",
    "<img src= \"images/hsv.jpg\" alt =\"Andrew\" style='width: 200px;' align = 'left' />\n"
   ]
  },
  {
   "cell_type": "markdown",
   "id": "4a72a569",
   "metadata": {},
   "source": [
    "## --------------------------------Type-of-Smoothing-images-----------------------"
   ]
  },
  {
   "cell_type": "code",
   "execution_count": 15,
   "id": "777a9802",
   "metadata": {},
   "outputs": [],
   "source": [
    "blur = cv2.blur(img, (5,5)) "
   ]
  },
  {
   "cell_type": "code",
   "execution_count": 16,
   "id": "f19a55ba",
   "metadata": {},
   "outputs": [],
   "source": [
    "Kernel =  np.ones((5,5),np.float64)/25\n",
    "filter_blur = cv2.filter2D(img, -1,Kernel)"
   ]
  },
  {
   "cell_type": "code",
   "execution_count": 17,
   "id": "66961225",
   "metadata": {},
   "outputs": [],
   "source": [
    "gauss_blur = cv2.GaussianBlur(img, (5,5), 0)"
   ]
  },
  {
   "cell_type": "code",
   "execution_count": 18,
   "id": "b44bceb8",
   "metadata": {},
   "outputs": [],
   "source": [
    "med_blur = cv2.medianBlur(img, 5) "
   ]
  },
  {
   "cell_type": "code",
   "execution_count": 19,
   "id": "132eadfe",
   "metadata": {},
   "outputs": [
    {
     "data": {
      "text/plain": [
       "-1"
      ]
     },
     "execution_count": 19,
     "metadata": {},
     "output_type": "execute_result"
    }
   ],
   "source": [
    "cv2.imshow(\"blur\", blur)\n",
    "cv2.imshow(\"filter_blur\", filter_blur)\n",
    "cv2.imshow(\"gauss_blur\", gauss_blur)\n",
    "cv2.imshow(\"med_blur\", med_blur)\n",
    "cv2.waitKey(0)"
   ]
  },
  {
   "cell_type": "markdown",
   "id": "e9266aba",
   "metadata": {},
   "source": [
    "<p>It looks so similar to me XD-----------------Anyway all of them do the same job XD----just joking</p>\n",
    "<img src= \"images/blur.jpg\" alt =\"Andrew\" style='width: 200px;' align = 'left' />\n",
    "<img src= \"images/filter_blur.jpg\" alt =\"Andrew\" style='width: 200px;' align = 'left' />\n",
    "<img src= \"images/gauss_blur.jpg\" alt =\"Andrew\" style='width: 200px;' align = 'left' />\n",
    "<img src= \"images/med_blur.jpg\" alt =\"Andrew\" style='width: 200px;' align = 'left' />"
   ]
  },
  {
   "cell_type": "markdown",
   "id": "3d37121b",
   "metadata": {},
   "source": [
    "## -------------------------Making Border---------------------------"
   ]
  },
  {
   "cell_type": "code",
   "execution_count": 31,
   "id": "bc8fa8c5",
   "metadata": {},
   "outputs": [],
   "source": [
    "ball_img = cv2.imread(\"images/ball.jpg\")"
   ]
  },
  {
   "cell_type": "code",
   "execution_count": 34,
   "id": "bf5722d8",
   "metadata": {},
   "outputs": [],
   "source": [
    "replicate = cv2.copyMakeBorder(ball_img, 50, 50, 50, 50, cv2.BORDER_REPLICATE) "
   ]
  },
  {
   "cell_type": "code",
   "execution_count": 36,
   "id": "c38f74df",
   "metadata": {},
   "outputs": [],
   "source": [
    "reflect = cv2.copyMakeBorder(ball_img, 50, 50, 50, 50, cv2.BORDER_REFLECT) "
   ]
  },
  {
   "cell_type": "code",
   "execution_count": 42,
   "id": "b7ebd95f",
   "metadata": {},
   "outputs": [],
   "source": [
    "reflect_101 = cv2.copyMakeBorder(ball_img, 50, 50, 50, 50, cv2.BORDER_REFLECT_101) "
   ]
  },
  {
   "cell_type": "code",
   "execution_count": 50,
   "id": "7a71de7d",
   "metadata": {},
   "outputs": [],
   "source": [
    "constant = cv2.copyMakeBorder(ball_img, 50, 50, 50, 50, cv2.BORDER_CONSTANT, value = (128, 234, 245))"
   ]
  },
  {
   "cell_type": "code",
   "execution_count": 52,
   "id": "6db8f49c",
   "metadata": {},
   "outputs": [
    {
     "data": {
      "text/plain": [
       "-1"
      ]
     },
     "execution_count": 52,
     "metadata": {},
     "output_type": "execute_result"
    }
   ],
   "source": [
    "cv2.imshow(\"ball_img\", ball_img)\n",
    "cv2.imshow(\"replicate\", replicate)\n",
    "cv2.imshow(\"reflect\", reflect)\n",
    "cv2.imshow(\"reflect_101\", reflect_101)\n",
    "cv2.waitKey(0)"
   ]
  },
  {
   "cell_type": "markdown",
   "id": "530c6e24",
   "metadata": {},
   "source": [
    "<p>-----------------Original-----------------------------Constant-----------------------------replicate-------------------------------reflect-----------------------reflect_101----------------</p>\n",
    "\n",
    "<img src= \"images/ball.jpg\" alt =\"Andrew\" style='width: 190px;' align = 'left' />\n",
    "<img src= \"images/constant.jpg\" alt =\"Andrew\" style='width: 190px;' align = 'left' />\n",
    "<img src= \"images/replicate.jpg\" alt =\"Andrew\" style='width: 190px;' align = 'left' />\n",
    "<img src= \"images/reflect.jpg\" alt =\"Andrew\" style='width: 190px;' align = 'left' />\n",
    "<img src= \"images/reflect_101.jpg\" alt =\"Andrew\" style='width: 190px;' align = 'left' />"
   ]
  },
  {
   "cell_type": "markdown",
   "id": "fa41c989",
   "metadata": {},
   "source": [
    "## ----------------------------------------------------Rotation--------------------------------------------------------------"
   ]
  },
  {
   "cell_type": "code",
   "execution_count": 55,
   "id": "055119d2",
   "metadata": {},
   "outputs": [],
   "source": [
    "arrow_img = cv2.imread(\"images/arrow.jpg\")"
   ]
  },
  {
   "cell_type": "code",
   "execution_count": 67,
   "id": "73e3c9ca",
   "metadata": {},
   "outputs": [],
   "source": [
    "r, c, _ = arrow_img.shape\n",
    "rotate = cv2.getRotationMatrix2D((c/2, r/2), 90, 1 )\n",
    "rotated_img = cv2.warpAffine(arrow_img, rotate, (c,r))"
   ]
  },
  {
   "cell_type": "code",
   "execution_count": 69,
   "id": "b24e694a",
   "metadata": {},
   "outputs": [
    {
     "data": {
      "text/plain": [
       "-1"
      ]
     },
     "execution_count": 69,
     "metadata": {},
     "output_type": "execute_result"
    }
   ],
   "source": [
    "cv2.imshow(\"arrow_img\", arrow_img)\n",
    "cv2.imshow(\"rotated_img\", rotated_img)\n",
    "cv2.waitKey(0)"
   ]
  },
  {
   "cell_type": "markdown",
   "id": "7b1cdcd2",
   "metadata": {},
   "source": [
    "<p>---------------Original--------------------------------Rotated-90--------------</p>\n",
    "<img src= \"images/arrow.jpg\" alt =\"Andrew\" style='width: 210px;' align = 'left' />\n",
    "<img src= \"images/rotated.jpg\" alt =\"Andrew\" style='width: 210px;' align = 'left' />"
   ]
  },
  {
   "cell_type": "markdown",
   "id": "8f276938",
   "metadata": {},
   "source": [
    "## ---------------------------------------Convert--(Binary)-------------------------------"
   ]
  },
  {
   "cell_type": "code",
   "execution_count": 395,
   "id": "cd9a3528",
   "metadata": {},
   "outputs": [
    {
     "data": {
      "text/plain": [
       "(880, 635, 3)"
      ]
     },
     "execution_count": 395,
     "metadata": {},
     "output_type": "execute_result"
    }
   ],
   "source": [
    "animal_img = cv2.imread(\"images/Animal.jpg\")\n",
    "animal_img.shape"
   ]
  },
  {
   "cell_type": "code",
   "execution_count": 396,
   "id": "1d049841",
   "metadata": {},
   "outputs": [
    {
     "data": {
      "text/plain": [
       "(880, 635)"
      ]
     },
     "execution_count": 396,
     "metadata": {},
     "output_type": "execute_result"
    }
   ],
   "source": [
    "animal_gray = cv2.cvtColor(animal_img, cv2.COLOR_BGR2GRAY)\n",
    "animal_gray.shape"
   ]
  },
  {
   "cell_type": "code",
   "execution_count": 397,
   "id": "989776fc",
   "metadata": {},
   "outputs": [],
   "source": [
    "thresh, black_white = cv2.threshold(animal_gray, 100, 255, cv2.THRESH_BINARY)"
   ]
  },
  {
   "cell_type": "code",
   "execution_count": 398,
   "id": "293b241c",
   "metadata": {},
   "outputs": [
    {
     "data": {
      "text/plain": [
       "-1"
      ]
     },
     "execution_count": 398,
     "metadata": {},
     "output_type": "execute_result"
    }
   ],
   "source": [
    "cv2.imshow(\"Dangerous Animal(RGB)\", animal_img)\n",
    "cv2.imshow(\"old(Gray)\", animal_gray)\n",
    "cv2.imshow(\"Binary Animal LOL\", black_white)\n",
    "cv2.waitKey(0)"
   ]
  },
  {
   "cell_type": "markdown",
   "id": "c5b0c5b3",
   "metadata": {},
   "source": [
    "<p>Expected Output</p>\n",
    "\n",
    "<img src= \"images/Animal.jpg\" alt =\"Animal\" style='width: 200px;' align = 'left' />\n",
    "<img src= \"images/gray_animal.jpg\" alt =\"Animal\" style='width: 200px;' align = 'left' />\n",
    "<img src= \"images/binary_Animal_2.jpg\" alt =\"Animal\" style='width: 200px;' align = 'left' />\n"
   ]
  },
  {
   "cell_type": "markdown",
   "id": "3461b513",
   "metadata": {},
   "source": [
    "## ------------------------------------Splitting image & merge it-----------------------------------------"
   ]
  },
  {
   "cell_type": "code",
   "execution_count": 399,
   "id": "15d7f95a",
   "metadata": {},
   "outputs": [
    {
     "data": {
      "text/plain": [
       "(427, 640, 3)"
      ]
     },
     "execution_count": 399,
     "metadata": {},
     "output_type": "execute_result"
    }
   ],
   "source": [
    "balloon_img = cv2.imread(\"images/balloon.jpg\")\n",
    "balloon_img.shape"
   ]
  },
  {
   "cell_type": "code",
   "execution_count": 400,
   "id": "ea7729e3",
   "metadata": {},
   "outputs": [
    {
     "data": {
      "text/plain": [
       "-1"
      ]
     },
     "execution_count": 400,
     "metadata": {},
     "output_type": "execute_result"
    }
   ],
   "source": [
    "cv2.imshow(\"Original\", balloon_img)\n",
    "cv2.waitKey(0)"
   ]
  },
  {
   "cell_type": "markdown",
   "id": "98b821e2",
   "metadata": {},
   "source": [
    "<img src= \"images/balloon.jpg\" alt =\"Animal\" style='width: 200px;' align = 'left' />"
   ]
  },
  {
   "cell_type": "code",
   "execution_count": 401,
   "id": "c6f2eea3",
   "metadata": {},
   "outputs": [],
   "source": [
    "B ,G , R = cv2.split(balloon_img)\n",
    "merged_img = cv2.merge((B, G, R)) "
   ]
  },
  {
   "cell_type": "code",
   "execution_count": 402,
   "id": "de03a7b9",
   "metadata": {},
   "outputs": [
    {
     "data": {
      "text/plain": [
       "-1"
      ]
     },
     "execution_count": 402,
     "metadata": {},
     "output_type": "execute_result"
    }
   ],
   "source": [
    "cv2.imshow(\"Blue\", B)\n",
    "cv2.imshow(\"Green\", G)\n",
    "cv2.imshow(\"Red\", R)\n",
    "\n",
    "cv2.imshow(\"merged image\", merged_img)\n",
    "\n",
    "cv2.waitKey(0)"
   ]
  },
  {
   "cell_type": "markdown",
   "id": "cba0e043",
   "metadata": {},
   "source": [
    "<p>splitting to (B), (G) ,(R) ----> merging</p>\n",
    "\n",
    "<img src= \"images/b.jpg\" alt =\"Animal\" style='width: 200px;' align = 'left' />\n",
    "<img src= \"images/g.jpg\" alt =\"Animal\" style='width: 200px;' align = 'left' />\n",
    "<img src= \"images/r.jpg\" alt =\"Animal\" style='width: 200px;' align = 'left' />\n",
    "<img src= \"images/merged.jpg\" alt =\"Animal\" style='width: 200px;' align = 'left' />"
   ]
  },
  {
   "cell_type": "markdown",
   "id": "3b6ef9ad",
   "metadata": {},
   "source": [
    "## -----------------------------Splitting HSV_image -------------------------------------------"
   ]
  },
  {
   "cell_type": "code",
   "execution_count": null,
   "id": "bbfa7703",
   "metadata": {},
   "outputs": [],
   "source": []
  },
  {
   "cell_type": "code",
   "execution_count": 404,
   "id": "56ca4038",
   "metadata": {},
   "outputs": [
    {
     "data": {
      "text/plain": [
       "-1"
      ]
     },
     "execution_count": 404,
     "metadata": {},
     "output_type": "execute_result"
    }
   ],
   "source": [
    "car_img = cv2.imread(\"images/car.jpg\")\n",
    "car_hsv = cv2.cvtColor(car_img, cv2.COLOR_BGR2HSV)\n",
    "\n",
    "cv2.imshow(\"original\", car_img)\n",
    "cv2.imshow(\"HSV\", car_hsv)\n",
    "cv2.waitKey(0)"
   ]
  },
  {
   "cell_type": "markdown",
   "id": "eb943b98",
   "metadata": {},
   "source": [
    "<p>BGR ----> HSV</p>\n",
    "<img src= \"images/car.jpg\" alt =\"Animal\" style='width: 200px;' align = 'left' />\n",
    "<img src= \"images/car_hsv.jpg\" alt =\"Animal\" style='width: 200px;' align = 'left' />"
   ]
  },
  {
   "cell_type": "code",
   "execution_count": 405,
   "id": "8c616e75",
   "metadata": {},
   "outputs": [],
   "source": [
    "H=car_hsv[:,:,0]\n",
    "S=car_hsv[:,:,1]\n",
    "V=car_hsv[:,:,2]"
   ]
  },
  {
   "cell_type": "code",
   "execution_count": 406,
   "id": "6cd8a6af",
   "metadata": {},
   "outputs": [
    {
     "data": {
      "text/plain": [
       "-1"
      ]
     },
     "execution_count": 406,
     "metadata": {},
     "output_type": "execute_result"
    }
   ],
   "source": [
    "cv2.imshow(\"hue\", H) \n",
    "cv2.imshow(\"saturation\", S)\n",
    "cv2.imshow(\"value\", V)\n",
    "cv2.waitKey(0)"
   ]
  },
  {
   "cell_type": "markdown",
   "id": "660ccdaf",
   "metadata": {},
   "source": [
    "<p>Original ---> HSV : (H) ,(S), (V)</p>\n",
    "\n",
    "<img src= \"images/h.jpg\" alt =\"Animal\" style='width: 200px;' align = 'left' />\n",
    "<img src= \"images/s.jpg\" alt =\"Animal\" style='width: 200px;' align = 'left' />\n",
    "<img src= \"images/v.jpg\" alt =\"Animal\" style='width: 200px;' align = 'left' />"
   ]
  },
  {
   "cell_type": "markdown",
   "id": "7ecc19b7",
   "metadata": {},
   "source": [
    "## -------------------------Resizing an image----------------------------------"
   ]
  },
  {
   "cell_type": "code",
   "execution_count": 407,
   "id": "89172d0a",
   "metadata": {},
   "outputs": [],
   "source": [
    "half = cv2.resize(img, (0,0), fx = 0.5, fy = 0.5)\n",
    "\n",
    "big = cv2.resize(img, (1050, 1610))\n",
    "\n",
    "streth = cv2.resize(img, (780, 540), interpolation = cv2.INTER_NEAREST)"
   ]
  },
  {
   "cell_type": "code",
   "execution_count": 408,
   "id": "30096416",
   "metadata": {},
   "outputs": [
    {
     "data": {
      "text/plain": [
       "-1"
      ]
     },
     "execution_count": 408,
     "metadata": {},
     "output_type": "execute_result"
    }
   ],
   "source": [
    "cv2.imshow(\"half\", half) \n",
    "cv2.imshow(\"big\", big)\n",
    "cv2.imshow(\"streth\", streth)\n",
    "cv2.waitKey(0)"
   ]
  },
  {
   "cell_type": "markdown",
   "id": "1425b594",
   "metadata": {},
   "source": [
    "<img src= \"images/half.jpg\" alt =\"Animal\" style='width: 200px;' align = 'left' />\n",
    "<img src= \"images/big.jpg\" alt =\"Animal\" style='width: 200px;' align = 'left' />\n",
    "<img src= \"images/streth.jpg\" alt =\"Animal\" style='width: 200px;' align = 'left' />"
   ]
  },
  {
   "cell_type": "markdown",
   "id": "26e086bd",
   "metadata": {},
   "source": [
    "## --------------------Filters--edge-Detection---------------"
   ]
  },
  {
   "cell_type": "code",
   "execution_count": 410,
   "id": "6ec25acc",
   "metadata": {},
   "outputs": [],
   "source": [
    "car_2_img = cv2.imread(\"images/car_2.jpg\", 0)\n",
    "\n",
    "laplacian = cv2.Laplacian(car_2_img, cv2.CV_64F)\n",
    "\n",
    "sobelX = cv2.Sobel(car_2_img, cv2.CV_64F, 1, 0, ksize = 1)\n",
    "sobelY = cv2.Sobel(car_2_img, cv2.CV_64F, 0, 1, ksize = 1)\n",
    "\n",
    "sobel_img = cv2.add(sobelX, sobelY)\n",
    "\n",
    "schX = cv2.Scharr(car_2_img, cv2.CV_64F, 1, 0)\n",
    "schY = cv2.Scharr(car_2_img, cv2.CV_64F, 0, 1)\n",
    "\n",
    "imcanny= cv2.Canny(car_2_img, 150, 300)"
   ]
  },
  {
   "cell_type": "code",
   "execution_count": 411,
   "id": "b28d5f6a",
   "metadata": {},
   "outputs": [
    {
     "data": {
      "text/plain": [
       "-1"
      ]
     },
     "execution_count": 411,
     "metadata": {},
     "output_type": "execute_result"
    }
   ],
   "source": [
    "cv2.imshow(\"orignal\", car_2_img) \n",
    "cv2.imshow(\"laplacian\", laplacian)\n",
    "cv2.imshow(\"sobel\", sobel_img)\n",
    "cv2.imshow(\"schx\", schX)\n",
    "cv2.imshow(\"imcanny\", imcanny)\n",
    "cv2.waitKey(0)"
   ]
  },
  {
   "cell_type": "markdown",
   "id": "80dc4627",
   "metadata": {},
   "source": [
    "## -------------Morphological Transformation----(erosion)-(dialtion)-(openning)-(clossing)--------"
   ]
  },
  {
   "cell_type": "code",
   "execution_count": 412,
   "id": "592daab9",
   "metadata": {},
   "outputs": [],
   "source": [
    "A = cv2.imread('images/morph/A.jpg', 0)\n",
    "thresh, binary_A = cv2.threshold(A, 103, 255, cv2.THRESH_BINARY) "
   ]
  },
  {
   "cell_type": "code",
   "execution_count": 413,
   "id": "bdae629a",
   "metadata": {},
   "outputs": [],
   "source": [
    "kernal = np.ones((5,5), np.uint8)\n",
    "\n",
    "erode = cv2.erode(binary_A, kernal, iterations = 4)\n",
    "\n",
    "dialte = cv2.dilate(binary_A, kernal, iterations = 4)\n",
    " \n",
    "gradient =cv2.morphologyEx(binary_A, cv2.MORPH_GRADIENT, kernal)"
   ]
  },
  {
   "cell_type": "code",
   "execution_count": 414,
   "id": "db025bc8",
   "metadata": {},
   "outputs": [
    {
     "data": {
      "text/plain": [
       "-1"
      ]
     },
     "execution_count": 414,
     "metadata": {},
     "output_type": "execute_result"
    }
   ],
   "source": [
    "cv2.imshow(\"original\", binary_A)\n",
    "cv2.imshow(\"erosion\", erode) \n",
    "cv2.imshow(\"dialtion\", dialte)\n",
    "cv2.imshow(\"gradient\", gradient)\n",
    "cv2.waitKey(0)"
   ]
  },
  {
   "cell_type": "markdown",
   "id": "cfb27cfa",
   "metadata": {},
   "source": [
    "<p>|----------------original------------------|----------------erosion--------------|----------------dialtion------------------|----------------gradient---------------|</p>\n",
    "\n",
    "<img src= \"images/morph/binary_A.jpg\" alt =\"Animal\" style='width: 200px;' align = 'left' />\n",
    "<img src= \"images/morph/erode2.jpg\" alt =\"Animal\" style='width: 200px;' align = 'left' />\n",
    "<img src= \"images/morph/dialte2.jpg\" alt =\"Animal\" style='width: 200px;' align = 'left' />\n",
    "<img src= \"images/morph/gradient.jpg\" alt =\"Animal\" style='width: 200px;' align = 'left' />\n"
   ]
  },
  {
   "cell_type": "code",
   "execution_count": 416,
   "id": "7453c2e1",
   "metadata": {},
   "outputs": [],
   "source": [
    "A_noise = cv2.imread(\"images/morph/A_noise.jpg\", 0)\n",
    "thresh, binary_n_A = cv2.threshold(A_noise, 103, 255, cv2.THRESH_BINARY) "
   ]
  },
  {
   "cell_type": "code",
   "execution_count": 417,
   "id": "7771dc54",
   "metadata": {},
   "outputs": [],
   "source": [
    "openning = cv2.morphologyEx(binary_n_A, cv2.MORPH_OPEN, kernal ,iterations = 2)"
   ]
  },
  {
   "cell_type": "code",
   "execution_count": 418,
   "id": "3f2ed5d6",
   "metadata": {},
   "outputs": [
    {
     "data": {
      "text/plain": [
       "-1"
      ]
     },
     "execution_count": 418,
     "metadata": {},
     "output_type": "execute_result"
    }
   ],
   "source": [
    "cv2.imshow(\"A_noise\", A_noise)\n",
    "cv2.imshow(\"openning\", openning)\n",
    "cv2.waitKey(0)"
   ]
  },
  {
   "cell_type": "markdown",
   "id": "c87c9bbd",
   "metadata": {},
   "source": [
    "<p>|----------------original------------------|----------------openning---------------|</p>\n",
    "<img src= \"images/morph/A_noise.jpg\" alt =\"Animal\" style='width: 200px;' align = 'left' />\n",
    "<img src= \"images/morph/openning.jpg\" alt =\"Animal\" style='width: 200px;' align = 'left' />"
   ]
  },
  {
   "cell_type": "code",
   "execution_count": 420,
   "id": "d48a5d14",
   "metadata": {},
   "outputs": [],
   "source": [
    "A_in_noise = cv2.imread(\"images/morph/A_in_noise.jpg\", 0)\n",
    "thresh, binary_A_in_noise = cv2.threshold(A_in_noise, 103, 255, cv2.THRESH_BINARY) "
   ]
  },
  {
   "cell_type": "code",
   "execution_count": 421,
   "id": "fb56155c",
   "metadata": {},
   "outputs": [],
   "source": [
    "closing  = cv2.morphologyEx(binary_A_in_noise, cv2.MORPH_CLOSE, kernal, iterations = 2)"
   ]
  },
  {
   "cell_type": "code",
   "execution_count": 422,
   "id": "b4c66f66",
   "metadata": {},
   "outputs": [
    {
     "data": {
      "text/plain": [
       "-1"
      ]
     },
     "execution_count": 422,
     "metadata": {},
     "output_type": "execute_result"
    }
   ],
   "source": [
    "cv2.imshow(\"A_in_noise\", A_in_noise)\n",
    "cv2.imshow(\"closing\", closing)\n",
    "cv2.waitKey(0)"
   ]
  },
  {
   "cell_type": "markdown",
   "id": "a828173c",
   "metadata": {},
   "source": [
    "<p>|----------------original----------------|----------------closing---------------|</p>\n",
    "<img src= \"images/morph/A_in_noise.jpg\" alt =\"Animal\" style='width: 200px;' align = 'left' />\n",
    "<img src= \"images/morph/closing.jpg\" alt =\"Animal\" style='width: 200px;' align = 'left' />"
   ]
  },
  {
   "cell_type": "markdown",
   "id": "926aa447",
   "metadata": {},
   "source": [
    "## ------------------Contour----------------------------------------"
   ]
  },
  {
   "cell_type": "code",
   "execution_count": 2,
   "id": "c75895bb",
   "metadata": {},
   "outputs": [],
   "source": [
    "dice = cv2.imread(\"images\\contours\\dice.jpg\")\n",
    "g_dice = cv2.cvtColor(dice, cv2.COLOR_BGR2GRAY)\n",
    "thresh, binary_dice = cv2.threshold(g_dice, 170, 255, cv2.THRESH_BINARY)\n",
    "\n",
    "#delete noises\n",
    "kernel2 =np.ones((2, 2), np.uint8)\n",
    "open_dice = cv2.morphologyEx(binary_dice, cv2.MORPH_OPEN,kernel2 , iterations = 1)\n"
   ]
  },
  {
   "cell_type": "code",
   "execution_count": 3,
   "id": "67211c02",
   "metadata": {},
   "outputs": [
    {
     "data": {
      "text/plain": [
       "-1"
      ]
     },
     "execution_count": 3,
     "metadata": {},
     "output_type": "execute_result"
    }
   ],
   "source": [
    "cv2.imshow(\"dice\", dice)\n",
    "cv2.imshow(\"open_dice\", open_dice)\n",
    "cv2.waitKey(0)"
   ]
  },
  {
   "cell_type": "code",
   "execution_count": 5,
   "id": "df6c91a5",
   "metadata": {},
   "outputs": [
    {
     "name": "stdout",
     "output_type": "stream",
     "text": [
      "Done!\n"
     ]
    }
   ],
   "source": [
    "contours, hierarchy = cv2.findContours(binary_dice, cv2.RETR_TREE, cv2.CHAIN_APPROX_NONE)\n",
    "# print(contours) #<----All continous points in list\n",
    "\n",
    "cv2.drawContours(dice, contours, -1, (0, 255, 0), 2)\n",
    "print(\"Done!\")"
   ]
  },
  {
   "cell_type": "code",
   "execution_count": 6,
   "id": "c7fa6ff7",
   "metadata": {},
   "outputs": [
    {
     "data": {
      "text/plain": [
       "-1"
      ]
     },
     "execution_count": 6,
     "metadata": {},
     "output_type": "execute_result"
    }
   ],
   "source": [
    "cv2.imshow(\"dice\", dice)\n",
    "cv2.waitKey(0)"
   ]
  },
  {
   "cell_type": "markdown",
   "id": "421830c9",
   "metadata": {},
   "source": [
    "<p>|--------------------------------------original----------------------------------------|------------------------------------Drawing_Contours---------------|</p>\n",
    "<img src= \"images/contours/dice.jpg\" alt =\"Animal\" style='width: 400px;' align = 'left' />\n",
    "<img src= \"images/contours/dice2.jpg\" alt =\"Animal\" style='width: 400px;' align = 'left' />"
   ]
  },
  {
   "cell_type": "markdown",
   "id": "295f0a3a",
   "metadata": {},
   "source": [
    "## -----------------Drawing Shapes---------------------------------------"
   ]
  },
  {
   "cell_type": "code",
   "execution_count": 427,
   "id": "88574588",
   "metadata": {},
   "outputs": [],
   "source": [
    "black_img = np.zeros_like(dice)"
   ]
  },
  {
   "cell_type": "code",
   "execution_count": 428,
   "id": "0a09c869",
   "metadata": {},
   "outputs": [
    {
     "name": "stdout",
     "output_type": "stream",
     "text": [
      "Line Done\n"
     ]
    }
   ],
   "source": [
    "#drawing line from first to the middle\n",
    "cv2.line(black_img, (0, 0), (int(black_img.shape[1] / 2), int(black_img.shape[0] / 2)), (255, 0, 0), 3)\n",
    "print(\"Line Done\")"
   ]
  },
  {
   "cell_type": "code",
   "execution_count": 429,
   "id": "67cb80b7",
   "metadata": {},
   "outputs": [
    {
     "name": "stdout",
     "output_type": "stream",
     "text": [
      "Circle Done\n"
     ]
    }
   ],
   "source": [
    "#drawing circle in the middle\n",
    "rad = 100\n",
    "cv2.circle(black_img, (int(black_img.shape[1] / 2), int(black_img.shape[0] / 2)), rad, (0, 0, 255), 3 )\n",
    "print(\"Circle Done\")"
   ]
  },
  {
   "cell_type": "code",
   "execution_count": 430,
   "id": "daee94d1",
   "metadata": {},
   "outputs": [
    {
     "name": "stdout",
     "output_type": "stream",
     "text": [
      "Rectangle Done\n"
     ]
    }
   ],
   "source": [
    "cv2.rectangle(black_img, ( int(black_img.shape[1] / 2) - rad, int(black_img.shape[0] / 2) - rad ), \\\n",
    "                         ( int(black_img.shape[1] / 2) + rad, int(black_img.shape[0] / 2) + rad ), (0, 255, 0), 3 )\n",
    "\n",
    "print(\"Rectangle Done\")"
   ]
  },
  {
   "cell_type": "code",
   "execution_count": 431,
   "id": "3bd7eeb6",
   "metadata": {},
   "outputs": [
    {
     "name": "stdout",
     "output_type": "stream",
     "text": [
      "Done Text\n"
     ]
    }
   ],
   "source": [
    "font = cv2.FONT_HERSHEY_SIMPLEX\n",
    "cv2.putText(black_img, \"Senussi\", (int(black_img.shape[1] / 2) - 80, int(black_img.shape[0] / 2)), font, 1.5, (255, 255, 255), 3 )\n",
    "print('Done Text')"
   ]
  },
  {
   "cell_type": "code",
   "execution_count": 433,
   "id": "b54ecf8c",
   "metadata": {},
   "outputs": [
    {
     "data": {
      "text/plain": [
       "-1"
      ]
     },
     "execution_count": 433,
     "metadata": {},
     "output_type": "execute_result"
    }
   ],
   "source": [
    "cv2.imshow(\"black_img\",black_img)\n",
    "cv2.waitKey(0)"
   ]
  },
  {
   "cell_type": "code",
   "execution_count": 383,
   "id": "29bb0d18",
   "metadata": {},
   "outputs": [
    {
     "data": {
      "text/plain": [
       "True"
      ]
     },
     "execution_count": 383,
     "metadata": {},
     "output_type": "execute_result"
    }
   ],
   "source": [
    "cv2.imwrite(\"images/black_img.jpg\",black_img)"
   ]
  },
  {
   "cell_type": "markdown",
   "id": "e00c87ef",
   "metadata": {},
   "source": [
    "<img src= \"images/black_img.jpg\" alt =\"Animal\" style='width: 400px;' align = 'left' />"
   ]
  },
  {
   "cell_type": "code",
   "execution_count": null,
   "id": "8fc31af5",
   "metadata": {},
   "outputs": [],
   "source": []
  }
 ],
 "metadata": {
  "kernelspec": {
   "display_name": "Python 3",
   "language": "python",
   "name": "python3"
  },
  "language_info": {
   "codemirror_mode": {
    "name": "ipython",
    "version": 3
   },
   "file_extension": ".py",
   "mimetype": "text/x-python",
   "name": "python",
   "nbconvert_exporter": "python",
   "pygments_lexer": "ipython3",
   "version": "3.8.8"
  }
 },
 "nbformat": 4,
 "nbformat_minor": 5
}
