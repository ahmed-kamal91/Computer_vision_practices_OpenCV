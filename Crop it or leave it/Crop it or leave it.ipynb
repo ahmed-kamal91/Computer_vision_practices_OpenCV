{
 "cells": [
  {
   "cell_type": "code",
   "execution_count": 1,
   "id": "6a9d9b1d",
   "metadata": {},
   "outputs": [],
   "source": [
    "import cv2\n",
    "import os"
   ]
  },
  {
   "cell_type": "code",
   "execution_count": 3,
   "id": "70e7c902",
   "metadata": {},
   "outputs": [],
   "source": [
    "myList = os.listdir(\"images\")\n",
    "\n",
    "for img_name in myList:\n",
    "\n",
    "    img = cv2.imread(f'images/{img_name}') #<-------------------------------------------------------read\n",
    "    gray_img = cv2.cvtColor(img, cv2.COLOR_BGR2GRAY) #<---------------------------------------------gray\n",
    "    _, binary_img = cv2.threshold(gray_img, 170, 255, cv2.THRESH_BINARY) #<------------------------binary\n",
    "    contours, _ = cv2.findContours(binary_img, cv2.RETR_EXTERNAL, cv2.CHAIN_APPROX_NONE) #<-------getContour\n",
    "  \n",
    "    for cnt in contours:\n",
    "        #---approx-using-curveLength---\n",
    "        peri = cv2.arcLength(cnt, True)\n",
    "        approx = cv2.approxPolyDP(cnt, 0.02*peri, True)\n",
    "\n",
    "        #----segmentation------\n",
    "        v1, v2, v3, v4 = approx\n",
    "        y1, x1 = v1[0]\n",
    "        y2, x2 = v2[0]\n",
    "        y3, x3 = v3[0]\n",
    "        y4, x4 = v4[0]\n",
    "\n",
    "        #cropping\n",
    "        crooped_img = img[x1:x2, y1:y4]\n",
    "\n",
    "        #cv2.imshow(\"crooped_img\", crooped_img)\n",
    "        #cv2.waitKey(0)\n",
    "\n",
    "        #Save the cropped image\n",
    "        cv2.imwrite(f'cropped/{x1},{y1},{x2},{y2},{x3}, {y3},{x4},{y4}.jpg', crooped_img)"
   ]
  },
  {
   "cell_type": "code",
   "execution_count": null,
   "id": "e0848624",
   "metadata": {},
   "outputs": [],
   "source": []
  }
 ],
 "metadata": {
  "kernelspec": {
   "display_name": "Python 3",
   "language": "python",
   "name": "python3"
  },
  "language_info": {
   "codemirror_mode": {
    "name": "ipython",
    "version": 3
   },
   "file_extension": ".py",
   "mimetype": "text/x-python",
   "name": "python",
   "nbconvert_exporter": "python",
   "pygments_lexer": "ipython3",
   "version": "3.8.8"
  }
 },
 "nbformat": 4,
 "nbformat_minor": 5
}
