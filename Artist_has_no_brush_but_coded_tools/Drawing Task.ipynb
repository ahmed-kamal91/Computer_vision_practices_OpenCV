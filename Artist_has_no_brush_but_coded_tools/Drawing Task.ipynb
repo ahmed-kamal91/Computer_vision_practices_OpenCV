{
 "cells": [
  {
   "cell_type": "code",
   "execution_count": 2,
   "id": "45f2cdaf",
   "metadata": {},
   "outputs": [],
   "source": [
    "import cv2\n",
    "import numpy as np"
   ]
  },
  {
   "cell_type": "markdown",
   "id": "e88da637",
   "metadata": {},
   "source": [
    "### notice :  <<I spent 4 Hours >> to write algorithms below so make sure to appreciate it"
   ]
  },
  {
   "cell_type": "code",
   "execution_count": 201,
   "id": "0dc40413",
   "metadata": {},
   "outputs": [],
   "source": [
    "def draw_gorund_sky(img, ratio):\n",
    "    \n",
    "    #Sky Points\n",
    "    sky_strt_point = (0,0)\n",
    "    sky_end_point = ( img.shape[1],  int(img.shape[0] * ratio) )\n",
    "    \n",
    "    #Ground Points\n",
    "    ground_str_point = (0, int(img.shape[0] * ratio) )\n",
    "    gorund_end_point = ( img.shape[1],  img.shape[0] )\n",
    "    \n",
    "    cv2.rectangle(img, sky_strt_point , sky_end_point , (225, 188, 113), cv2.FILLED )\n",
    "    cv2.rectangle(img, ground_str_point, gorund_end_point, (41,171,92), cv2.FILLED  )\n",
    "    "
   ]
  },
  {
   "cell_type": "code",
   "execution_count": 202,
   "id": "b5f17cb8",
   "metadata": {},
   "outputs": [],
   "source": [
    "def draw_tree_(t_move,to_down, ratio):\n",
    "\n",
    "    #----------draw-Rectangle------------------------------------------------------------------------------\n",
    "    height = 200\n",
    "    width = 20\n",
    "\n",
    "    horizintal_pos = 28 + t_move\n",
    "    tree_thick = width + 28 + t_move\n",
    "\n",
    "    tree_height_point = (horizintal_pos, height) \n",
    "    tree_width_point = (tree_thick , int(b_image.shape[0] * ratio))\n",
    "\n",
    "    cv2.rectangle(b_image, tree_height_point , tree_width_point , (69, 84, 151), cv2.FILLED )\n",
    "    print(\"Done Rectangle!\")\n",
    "\n",
    "    #----------------Draw-triangle---------------------------------------------------------------------------\n",
    "\n",
    "    p1 = (t_move + width * 2  , to_down)\n",
    "    p2 = (t_move + 0, 200 + to_down)\n",
    "    p3 = (t_move + width * 4, 200 + to_down)\n",
    "\n",
    "    triangle = np.array([p1, p2, p3], dtype = np.int32)\n",
    "    cv2.fillPoly(b_image, [triangle], (41,171,92))\n",
    "    print(\"Done Triangle !\")"
   ]
  },
  {
   "cell_type": "code",
   "execution_count": 240,
   "id": "fcd45980",
   "metadata": {},
   "outputs": [],
   "source": [
    "# make empty image from already rgb image\n",
    "rgb_img = cv2.imread(\"dice.jpg\")\n",
    "b_image = np.zeros_like(rgb_img)\n",
    "ratio = 5/6"
   ]
  },
  {
   "cell_type": "code",
   "execution_count": 241,
   "id": "0b71b3a3",
   "metadata": {},
   "outputs": [],
   "source": [
    "draw_gorund_sky(b_image, ratio)"
   ]
  },
  {
   "cell_type": "code",
   "execution_count": 251,
   "id": "331ef59d",
   "metadata": {},
   "outputs": [
    {
     "name": "stdout",
     "output_type": "stream",
     "text": [
      "Done circle\n"
     ]
    }
   ],
   "source": [
    "# yellow orange : 66,174,255\n",
    "# yellow : 156,235,241\n",
    "cv2.circle(b_image, ( int(b_image.shape[1] / 2) , 100), 90,(156,235,241), 3)\n",
    "print(\"Done circle\")"
   ]
  },
  {
   "cell_type": "code",
   "execution_count": 264,
   "id": "dcf75ee5",
   "metadata": {},
   "outputs": [
    {
     "name": "stdout",
     "output_type": "stream",
     "text": [
      "Done Rectangle!\n",
      "Done Triangle !\n"
     ]
    }
   ],
   "source": [
    "draw_tree_(480,110, ratio) #change between 80 & 110"
   ]
  },
  {
   "cell_type": "code",
   "execution_count": 265,
   "id": "1fbeb7f2",
   "metadata": {},
   "outputs": [
    {
     "data": {
      "text/plain": [
       "-1"
      ]
     },
     "execution_count": 265,
     "metadata": {},
     "output_type": "execute_result"
    }
   ],
   "source": [
    "cv2.imshow('b_image', b_image)\n",
    "cv2.waitKey(0)"
   ]
  },
  {
   "cell_type": "markdown",
   "id": "0eb8bb8f",
   "metadata": {},
   "source": [
    "movement_point;\n",
    "tree_height;\n",
    "tree_width; "
   ]
  },
  {
   "cell_type": "code",
   "execution_count": 186,
   "id": "e8d469eb",
   "metadata": {},
   "outputs": [
    {
     "data": {
      "text/plain": [
       "(427, 640, 3)"
      ]
     },
     "execution_count": 186,
     "metadata": {},
     "output_type": "execute_result"
    }
   ],
   "source": [
    "b_image.shape"
   ]
  },
  {
   "cell_type": "markdown",
   "id": "d34de7a2",
   "metadata": {},
   "source": [
    "### by using code above as tools to draw your art you can do this"
   ]
  },
  {
   "cell_type": "code",
   "execution_count": 266,
   "id": "116521d5",
   "metadata": {},
   "outputs": [
    {
     "data": {
      "text/plain": [
       "True"
      ]
     },
     "execution_count": 266,
     "metadata": {},
     "output_type": "execute_result"
    }
   ],
   "source": [
    "# cv2.imwrite(\"b_image.jpg\", b_image)"
   ]
  },
  {
   "cell_type": "markdown",
   "id": "38ecfaba",
   "metadata": {},
   "source": [
    "<img src= \"b_image.jpg\" alt =\"Animal\" style='width: 900px;' align = 'left' />"
   ]
  },
  {
   "cell_type": "code",
   "execution_count": null,
   "id": "0f11122e",
   "metadata": {},
   "outputs": [],
   "source": []
  }
 ],
 "metadata": {
  "kernelspec": {
   "display_name": "Python 3",
   "language": "python",
   "name": "python3"
  },
  "language_info": {
   "codemirror_mode": {
    "name": "ipython",
    "version": 3
   },
   "file_extension": ".py",
   "mimetype": "text/x-python",
   "name": "python",
   "nbconvert_exporter": "python",
   "pygments_lexer": "ipython3",
   "version": "3.8.8"
  }
 },
 "nbformat": 4,
 "nbformat_minor": 5
}
